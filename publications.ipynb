{
 "cells": [
  {
   "cell_type": "code",
   "execution_count": 96,
   "id": "c7f4baa2",
   "metadata": {},
   "outputs": [],
   "source": [
    "from pybtex.database import parse_file"
   ]
  },
  {
   "cell_type": "code",
   "execution_count": 97,
   "id": "6fc1ac37",
   "metadata": {},
   "outputs": [],
   "source": [
    "bib = parse_file('yinchi.bib')"
   ]
  },
  {
   "cell_type": "code",
   "execution_count": 98,
   "id": "b2bbbcc0",
   "metadata": {},
   "outputs": [
    {
     "data": {
      "text/plain": [
       "{'article', 'inproceedings', 'patent'}"
      ]
     },
     "execution_count": 98,
     "metadata": {},
     "output_type": "execute_result"
    }
   ],
   "source": [
    "{x.type for x in bib.entries.values()}"
   ]
  },
  {
   "cell_type": "code",
   "execution_count": 99,
   "id": "859d826d",
   "metadata": {},
   "outputs": [
    {
     "name": "stdout",
     "output_type": "stream",
     "text": [
      "WuDesign2025 (2025, 3)\n",
      "ChanProcess2024 (2024, 12)\n",
      "NiuDynamics2024 (2024, 8)\n",
      "ChanIntegrating2024 (2024, 2)\n",
      "ChanSimulation2023 (2023, 12)\n",
      "MorettiLow2023 (2023, 9)\n",
      "MukherjeeHealthcare2023 (2023, 7)\n",
      "WongCentury2023 (2023, 6)\n",
      "WangModeling2022 (2022, 7)\n",
      "NiuStochastic2021 (2021, 10)\n",
      "ChanEvaluating2021 (2021, 5)\n",
      "WuPower2020 (2020, 12)\n",
      "NiuModeling2020 (2020, 10)\n",
      "WuPerformance2020 (2020, 5)\n",
      "ChanOverflow2018 (2018, 12)\n",
      "ChanBlocking2018 (2018, 5)\n",
      "WuEnergy2017 (2017, 12)\n",
      "ChanSurrogate2016 (2016, 10)\n"
     ]
    }
   ],
   "source": [
    "import calendar\n",
    "from pprint import pprint\n",
    "\n",
    "map_short = {s: n for n, s in list(enumerate(calendar.month_abbr)) if n}\n",
    "map_long = {s: n for n, s in list(enumerate(calendar.month_name)) if n}\n",
    "\n",
    "def month(s: str | None):\n",
    "    if s is None: return 0\n",
    "    if s.title() in map_short: return map_short[s]\n",
    "    elif s.title() in map_long: return map_long[s]\n",
    "    else: return 0\n",
    "\n",
    "def y_m(bib, key):\n",
    "    y = int(bib.entries[key].fields['year'])\n",
    "    m = month(bib.entries[key].fields.get('month', None))\n",
    "    return (y, m)\n",
    "\n",
    "d = {k: y_m(bib, k) for k in bib.entries.keys() if bib.entries[k].type not in ['patent']}\n",
    "d = dict(sorted(d.items(), key=lambda i: i[1], reverse=True))\n",
    "\n",
    "for k, v in d.items():\n",
    "    print(k, v)"
   ]
  },
  {
   "cell_type": "code",
   "execution_count": null,
   "id": "90c9ce79",
   "metadata": {},
   "outputs": [],
   "source": []
  },
  {
   "cell_type": "code",
   "execution_count": 100,
   "id": "1e468410",
   "metadata": {},
   "outputs": [
    {
     "name": "stdout",
     "output_type": "stream",
     "text": [
      "1. @WuDesign2025\n",
      "    - [PDF](papers/WuDesign2025.pdf)\n",
      "1. @ChanProcess2024\n",
      "    - [PDF](papers/ChanProcess2024.pdf)\n",
      "1. @NiuDynamics2024\n",
      "    - [PDF](papers/NiuDynamics2024.pdf)\n",
      "1. @ChanIntegrating2024\n",
      "    - [PDF](papers/ChanIntegrating2024.pdf)\n",
      "1. @ChanSimulation2023\n",
      "    - [PDF](papers/ChanSimulation2023.pdf)\n",
      "    - [Slides](papers/ChanSimulation2023_slides.pdf)\n",
      "1. @MorettiLow2023\n",
      "    - [PDF](papers/MorettiLow2023.pdf)\n",
      "1. @MukherjeeHealthcare2023\n",
      "    - [PDF](papers/MukherjeeHealthcare2023.pdf)\n",
      "1. @WongCentury2023\n",
      "    - [PDF](papers/WongCentury2023.pdf)\n",
      "1. @WangModeling2022\n",
      "    - [PDF](papers/WangModeling2022.pdf)\n",
      "1. @NiuStochastic2021\n",
      "    - [PDF](papers/NiuStochastic2021.pdf)\n",
      "1. @ChanEvaluating2021\n",
      "    - [PDF](papers/ChanEvaluating2021.pdf)\n",
      "1. @WuPower2020\n",
      "    - [PDF](papers/WuPower2020.pdf)\n",
      "1. @NiuModeling2020\n",
      "    - [PDF](papers/NiuModeling2020.pdf)\n",
      "1. @WuPerformance2020\n",
      "    - [PDF](papers/WuPerformance2020.pdf)\n",
      "1. @ChanOverflow2018\n",
      "    - [PDF](papers/ChanOverflow2018.pdf)\n",
      "1. @ChanBlocking2018\n",
      "    - [PDF](papers/ChanBlocking2018.pdf)\n",
      "1. @WuEnergy2017\n",
      "    - [PDF](papers/WuEnergy2017.pdf)\n",
      "1. @ChanSurrogate2016\n",
      "    - [PDF](papers/ChanSurrogate2016.pdf)\n"
     ]
    }
   ],
   "source": [
    "from pathlib import Path\n",
    "\n",
    "with open('docs/publications.md', 'w', encoding='utf-8') as fp:\n",
    "    print('# Publications', file=fp)\n",
    "    print(file=fp)\n",
    "    print('Google Scholar profile: [link](https://scholar.google.com/citations?user=NJEB3swAAAAJ){:target=_blank}', file=fp)\n",
    "    print(file=fp)\n",
    "    for k, v in d.items():\n",
    "        print(f'1. @{k}')\n",
    "        print(f'1. @{k}', file=fp)\n",
    "        path = f'papers/{k}.pdf'\n",
    "        if Path(f'docs/{path}').is_file():\n",
    "            print(f'    - [PDF]({path})')\n",
    "            print(f'    - [PDF]({path}){{:target=_blank}}', file=fp)\n",
    "        path = f'papers/{k}_slides.pdf'\n",
    "        if Path(f'docs/{path}').is_file():\n",
    "            print(f'    - [Slides]({path})')\n",
    "            print(f'    - [Slides]({path}){{:target=_blank}}', file=fp)\n"
   ]
  },
  {
   "cell_type": "code",
   "execution_count": null,
   "id": "86eccedf",
   "metadata": {},
   "outputs": [],
   "source": []
  }
 ],
 "metadata": {
  "kernelspec": {
   "display_name": ".venv",
   "language": "python",
   "name": "python3"
  },
  "language_info": {
   "codemirror_mode": {
    "name": "ipython",
    "version": 3
   },
   "file_extension": ".py",
   "mimetype": "text/x-python",
   "name": "python",
   "nbconvert_exporter": "python",
   "pygments_lexer": "ipython3",
   "version": "3.13.2"
  }
 },
 "nbformat": 4,
 "nbformat_minor": 5
}
